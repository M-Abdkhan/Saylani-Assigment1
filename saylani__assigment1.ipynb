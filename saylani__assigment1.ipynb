{
  "nbformat": 4,
  "nbformat_minor": 0,
  "metadata": {
    "colab": {
      "provenance": []
    },
    "kernelspec": {
      "name": "python3",
      "display_name": "Python 3"
    },
    "language_info": {
      "name": "python"
    }
  },
  "cells": [
    {
      "cell_type": "markdown",
      "source": [
        "### 1. Count Digits,Letters and Special Characters"
      ],
      "metadata": {
        "id": "N_p4MtK2agbq"
      }
    },
    {
      "cell_type": "code",
      "execution_count": null,
      "metadata": {
        "id": "x_de1pGJ3zJU"
      },
      "outputs": [],
      "source": [
        "user = input('enter any text: ')\n",
        "\n",
        "letters = 0\n",
        "digits = 0\n",
        "special_chr = 0\n",
        "\n",
        "for text in user:\n",
        "  if text.isalpha():\n",
        "    letters += 1\n",
        "  elif text.isdigit():\n",
        "     digits += 1\n",
        "  else:\n",
        "     special_chr += 1\n",
        "\n",
        "print('letters: ', letters)\n",
        "print('digits: ', digits)\n",
        "print('special characters:', special_chr )\n",
        "\n",
        "\n"
      ]
    },
    {
      "cell_type": "markdown",
      "source": [
        "2. Number Divisible by 4 & 6 (But Not Both)"
      ],
      "metadata": {
        "id": "1KH7pAyekkCO"
      }
    },
    {
      "cell_type": "code",
      "source": [
        "num_1 = int(input('enter nay number: '))\n",
        "num_2 = int(input('enter any number: '))\n",
        "\n",
        "for num in range(num_1,num_2 +1):\n",
        "  if num % 4 == 0 and num % 6 == 0:\n",
        "    continue\n",
        "  elif num % 4 == 0 or num % 6 == 0:\n",
        "\n",
        "    print(num)"
      ],
      "metadata": {
        "colab": {
          "base_uri": "https://localhost:8080/"
        },
        "id": "emUDHu96o1dy",
        "outputId": "0f87c5e9-7c29-43e7-9f22-368265d60799"
      },
      "execution_count": null,
      "outputs": [
        {
          "output_type": "stream",
          "name": "stdout",
          "text": [
            "enter nay number: 1\n",
            "enter any number: 30\n",
            "4\n",
            "6\n",
            "8\n",
            "16\n",
            "18\n",
            "20\n",
            "28\n",
            "30\n"
          ]
        }
      ]
    },
    {
      "cell_type": "markdown",
      "source": [
        "3. Count Uppercase & Lowercase Letters"
      ],
      "metadata": {
        "id": "h1yTN1GUs3s1"
      }
    },
    {
      "cell_type": "code",
      "source": [
        "user = input('enter any text: ')\n",
        "\n",
        "upper = 0\n",
        "lower = 0\n",
        "\n",
        "for text in user:\n",
        "  if text.isupper():\n",
        "    upper +=1\n",
        "  elif text.islower():\n",
        "    lower += 1\n",
        "\n",
        "print('upper case', upper)\n",
        "print('lower case', lower)"
      ],
      "metadata": {
        "colab": {
          "base_uri": "https://localhost:8080/"
        },
        "id": "szQXPRh4stLZ",
        "outputId": "af1f1c20-a337-4a4e-87db-45e5eeaf15d2"
      },
      "execution_count": null,
      "outputs": [
        {
          "output_type": "stream",
          "name": "stdout",
          "text": [
            "enter any text: ABDullah\n",
            "upper case 3\n",
            "lower case 5\n"
          ]
        }
      ]
    },
    {
      "cell_type": "markdown",
      "source": [
        "4. Replace Vowels with ' * '\n"
      ],
      "metadata": {
        "id": "qNikQc-m7KRz"
      }
    },
    {
      "cell_type": "code",
      "source": [
        "user = input('enter any text: ').lower()\n",
        "\n",
        "vowels = ['a','e','i','o','u']\n",
        "\n",
        "result = ''\n",
        "\n",
        "for text in user:\n",
        "  if text in vowels:\n",
        "    result += '*'\n",
        "  else:\n",
        "    result +=text\n",
        "print(result)"
      ],
      "metadata": {
        "id": "VBcUO0KmwgrE",
        "colab": {
          "base_uri": "https://localhost:8080/"
        },
        "outputId": "1c8000a7-6b71-4d3a-a5f5-d12478d056e9"
      },
      "execution_count": null,
      "outputs": [
        {
          "output_type": "stream",
          "name": "stdout",
          "text": [
            "enter any text: abdullah\n",
            "*bd*ll*h\n"
          ]
        }
      ]
    },
    {
      "cell_type": "markdown",
      "source": [
        "5. Find Sum of Numbers Entered in a String"
      ],
      "metadata": {
        "id": "jwVKLrxy_6yo"
      }
    },
    {
      "cell_type": "code",
      "source": [
        "user = input('enter any string: ')\n",
        "\n",
        "sum_of_digits = 0\n",
        "\n",
        "for text in user:\n",
        "  if text.isdigit():\n",
        "    sum_of_digits += int(text)\n",
        "\n",
        "print(sum_of_digits)"
      ],
      "metadata": {
        "colab": {
          "base_uri": "https://localhost:8080/"
        },
        "id": "9eyOuciu7nj0",
        "outputId": "7e9583c8-3456-4c65-c615-c38c33583ed8"
      },
      "execution_count": null,
      "outputs": [
        {
          "output_type": "stream",
          "name": "stdout",
          "text": [
            "enter any string: as2f3g4\n",
            "9\n"
          ]
        }
      ]
    },
    {
      "cell_type": "markdown",
      "source": [
        "6. Count Words Starting With a Vowel"
      ],
      "metadata": {
        "id": "7pD3NGYajcNy"
      }
    },
    {
      "cell_type": "code",
      "source": [
        "user = input('enter any sentence: ')\n",
        "\n",
        "vowels = ['a','e','i','o','u']\n",
        "\n",
        "words = user.split()\n",
        "\n",
        "count = 0\n",
        "\n",
        "for text in words:\n",
        "  if text[0] in vowels:\n",
        "    count += 1\n",
        "\n",
        "print(count)\n"
      ],
      "metadata": {
        "colab": {
          "base_uri": "https://localhost:8080/"
        },
        "id": "5RlH9Py1fRdB",
        "outputId": "a64c4b00-2d61-452c-ca26-b225c40a64af"
      },
      "execution_count": null,
      "outputs": [
        {
          "output_type": "stream",
          "name": "stdout",
          "text": [
            "enter any sentence: An apple is in the table\n",
            "3\n"
          ]
        }
      ]
    },
    {
      "cell_type": "markdown",
      "source": [
        "7. Display Numbers With Sum Digits Even"
      ],
      "metadata": {
        "id": "GwKEawbWr0Pn"
      }
    },
    {
      "cell_type": "code",
      "source": [
        "start = int(input('enter any number: '))\n",
        "end = int(input('enter any number: '))\n",
        "\n",
        "for num in range(start, end +1):\n",
        "   digit_sum = 0\n",
        "   for digit in str(num):\n",
        "     digit_sum += int(digit)\n",
        "   if digit_sum % 2 == 0:\n",
        "    print(num)\n"
      ],
      "metadata": {
        "colab": {
          "base_uri": "https://localhost:8080/"
        },
        "id": "mVFZlE2Hjph-",
        "outputId": "169fefb4-71ca-4d2e-bbed-54e593cc6bf3"
      },
      "execution_count": null,
      "outputs": [
        {
          "output_type": "stream",
          "name": "stdout",
          "text": [
            "enter any number: 11\n",
            "enter any number: 30\n",
            "11\n",
            "13\n",
            "15\n",
            "17\n",
            "19\n",
            "20\n",
            "22\n",
            "24\n",
            "26\n",
            "28\n"
          ]
        }
      ]
    },
    {
      "cell_type": "markdown",
      "source": [
        "8. Character Frequency (sorted)"
      ],
      "metadata": {
        "id": "Ra6oAi9n-5Lh"
      }
    },
    {
      "cell_type": "code",
      "source": [
        "text = input('enter any string: ')\n",
        "\n",
        "count = {}\n",
        "\n",
        "for chr in text:\n",
        "  if chr in count:\n",
        "   count[chr]= count[chr] + 1\n",
        "  else:\n",
        "    count[chr] = 1\n",
        "for chr in sorted(count):\n",
        "  print(f'{chr}:{count[chr]}')"
      ],
      "metadata": {
        "colab": {
          "base_uri": "https://localhost:8080/"
        },
        "id": "QL9DDX1U2oaf",
        "outputId": "fe2f5365-e3dd-4845-818c-abc17d441f85"
      },
      "execution_count": null,
      "outputs": [
        {
          "output_type": "stream",
          "name": "stdout",
          "text": [
            "enter any string: banana\n",
            "a:3\n",
            "b:1\n",
            "n:2\n"
          ]
        }
      ]
    },
    {
      "cell_type": "markdown",
      "source": [
        "9. Number Having 3 as a Digit"
      ],
      "metadata": {
        "id": "GAUtq8ytGV-i"
      }
    },
    {
      "cell_type": "code",
      "source": [
        "start = int(input('enter any number: '))\n",
        "end = int(input('enter any number: '))\n",
        "\n",
        "for num in range(start , end +1):\n",
        "  if '3' in str(num):\n",
        "    print(num)"
      ],
      "metadata": {
        "colab": {
          "base_uri": "https://localhost:8080/"
        },
        "id": "6chnPi7n-zib",
        "outputId": "7c8cc9b1-120a-4e4c-d4cf-7273e05b9660"
      },
      "execution_count": null,
      "outputs": [
        {
          "output_type": "stream",
          "name": "stdout",
          "text": [
            "enter any number: 1\n",
            "enter any number: 30\n",
            "3\n",
            "13\n",
            "23\n",
            "30\n"
          ]
        }
      ]
    },
    {
      "cell_type": "markdown",
      "source": [
        "10. Complex Divisibility with Digit Logic"
      ],
      "metadata": {
        "id": "y19R6u0IUy3Z"
      }
    },
    {
      "cell_type": "code",
      "source": [
        "start = int(input('enter any number: '))\n",
        "end = int(input('enter any number: '))\n",
        "\n",
        "for num in range(start , end +1):\n",
        "  if num  % 4 == 0 and num % 6 == 0:\n",
        "    continue\n",
        "  elif num  % 4 == 0 or num % 6 == 0:\n",
        "\n",
        "      digit_sum = 0\n",
        "\n",
        "      for digit in str(num):\n",
        "        digit_sum += int(digit)\n",
        "      if  digit_sum % 2 != 0 and num % 9 != 0:\n",
        "        print(num)"
      ],
      "metadata": {
        "id": "hfL8wQQ1Gk5z",
        "colab": {
          "base_uri": "https://localhost:8080/"
        },
        "outputId": "a03efbb5-6c6e-4a3f-8c94-5e225f4f3a9b"
      },
      "execution_count": null,
      "outputs": [
        {
          "output_type": "stream",
          "name": "stdout",
          "text": [
            "enter any number: 1\n",
            "enter any number: 100\n",
            "16\n",
            "30\n",
            "32\n",
            "52\n",
            "56\n",
            "76\n",
            "78\n",
            "92\n",
            "100\n"
          ]
        }
      ]
    },
    {
      "cell_type": "code",
      "source": [],
      "metadata": {
        "id": "yU96mTvXTC2k"
      },
      "execution_count": null,
      "outputs": []
    }
  ]
}